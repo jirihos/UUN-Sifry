{
 "cells": [
  {
   "cell_type": "markdown",
   "id": "3fd28acd",
   "metadata": {},
   "source": [
    "# Report"
   ]
  }
 ],
 "metadata": {
  "language_info": {
   "name": "python"
  }
 },
 "nbformat": 4,
 "nbformat_minor": 5
}
