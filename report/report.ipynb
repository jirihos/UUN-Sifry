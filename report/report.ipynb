{
 "cells": [
  {
   "cell_type": "markdown",
   "id": "3fd28acd",
   "metadata": {},
   "source": [
    "# Report (Tým 12)"
   ]
  },
  {
   "cell_type": "markdown",
   "id": "306bc017",
   "metadata": {},
   "source": [
    "Původně jsme kód napsali podle pseudokódu ze zadání. Později jsme ale přišli na to, že pseudokód v zadání není úplný (možná úmyslně?) a vlastně ani nesplňuje zadání samotný."
   ]
  },
  {
   "cell_type": "markdown",
   "id": "d7d020b8",
   "metadata": {},
   "source": [
    "Kód jsme upravili, aby pracoval s relativní přechodovou matici místo absolutní."
   ]
  },
  {
   "cell_type": "markdown",
   "id": "10823ef2",
   "metadata": {},
   "source": [
    "## Funkce `prolom_substitute`"
   ]
  },
  {
   "cell_type": "markdown",
   "id": "e21b87d3",
   "metadata": {},
   "source": [
    "Pseudokód vrací klíč z poslední iterace algoritmu, což ale nedává dobré výsledky, protože se ve spoustě případech nejedná o nejlepší nalezený klíč. Proto jsme kód upravili, aby si pamatoval a následně vracel nejlepší nalezený klíč za celý běh."
   ]
  },
  {
   "cell_type": "markdown",
   "id": "c43b2ba8",
   "metadata": {},
   "source": [
    "Pro pravděpodobnost přijetí kandidátního klíče s nižší věrohodností se nám osvědčila nižší hodnota, než je v pseudokódu. Konkrétně používáme pravděpodobnost 0.001."
   ]
  },
  {
   "cell_type": "markdown",
   "id": "aa3aeabd",
   "metadata": {},
   "source": [
    "## Optimalizace"
   ]
  },
  {
   "cell_type": "markdown",
   "id": "f907980a",
   "metadata": {},
   "source": [
    "Původně byla naše kryptoanalýza velmi pomalá a museli jsme tedy v kódu najít místa, která lze optimalizovat. Našli jsme dvě taková místa."
   ]
  },
  {
   "cell_type": "markdown",
   "id": "1de483e3",
   "metadata": {},
   "source": [
    "### Funkce `transition_matrix`"
   ]
  },
  {
   "cell_type": "markdown",
   "id": "c99793a5",
   "metadata": {},
   "source": [
    "V naší původní funkci (vložená níže bez docstringu) trvalo dlouho postavení absolutní přechodové matice. To protože přístup a úprava jednotlivým prvkům v Pandas Data Framu je (pro naše účely) velmi pomalá."
   ]
  },
  {
   "cell_type": "markdown",
   "id": "451e54aa",
   "metadata": {},
   "source": [
    "```python\n",
    "def transition_matrix(bigrams: list[str]) -> pd.DataFrame:\n",
    "    n = len(alphabet)\n",
    "\n",
    "    alphabet_list = list(alphabet)\n",
    "    TM = pd.DataFrame(\n",
    "        np.zeros((n, n), dtype=int),\n",
    "        index=alphabet_list,\n",
    "        columns=alphabet_list\n",
    "    )\n",
    "\n",
    "    # Build the absolute transition matrix\n",
    "    for bigram in bigrams:\n",
    "        c1 = bigram[0]\n",
    "        c2 = bigram[1]\n",
    "        if c1 in alphabet and c2 in alphabet:\n",
    "            i = alphabet.index(c1)\n",
    "            j = alphabet.index(c2)\n",
    "            TM.iat[i, j] += 1\n",
    "\n",
    "    # Replace zeros with ones\n",
    "    TM.replace(0, 1, inplace=True)\n",
    "\n",
    "    # Convert to relative transition matrix\n",
    "    TM = TM.div(TM.sum().sum())\n",
    "\n",
    "    return TM\n",
    "```"
   ]
  },
  {
   "cell_type": "markdown",
   "id": "965a1f50",
   "metadata": {},
   "source": [
    "To jsme vyřešili tak, že nejdříve absolutní přechodovou matici vytvoříme jako NumPy Array a až poté ji převedeme na Pandas Data Frame."
   ]
  },
  {
   "cell_type": "markdown",
   "id": "6ef58279",
   "metadata": {},
   "source": [
    "```python\n",
    "def transition_matrix(bigrams: list[str]) -> pd.DataFrame:\n",
    "    n = len(alphabet)\n",
    "    arr = np.zeros((n, n), dtype=int)\n",
    "\n",
    "    # Build the absolute transition matrix\n",
    "    for bigram in bigrams:\n",
    "        c1 = bigram[0]\n",
    "        c2 = bigram[1]\n",
    "        if c1 in alphabet and c2 in alphabet:\n",
    "            i = alphabet.index(c1)\n",
    "            j = alphabet.index(c2)\n",
    "            arr[i, j] += 1\n",
    "\n",
    "    alphabet_list = list(alphabet)\n",
    "    TM = pd.DataFrame(\n",
    "        arr,\n",
    "        index=alphabet_list,\n",
    "        columns=alphabet_list\n",
    "    )\n",
    "\n",
    "    # Replace zeros with ones\n",
    "    TM.replace(0, 1, inplace=True)\n",
    "\n",
    "    # Convert to relative transition matrix\n",
    "    TM = TM.div(TM.sum().sum())\n",
    "\n",
    "    return TM\n",
    "```"
   ]
  },
  {
   "cell_type": "markdown",
   "id": "679cbc80",
   "metadata": {},
   "source": [
    "Rychlý benchmark obou funkcí ukazuje, že optimalizovaná verze je přibližně 25 krát rychlejší!"
   ]
  },
  {
   "cell_type": "markdown",
   "id": "238026d6",
   "metadata": {},
   "source": [
    "### Funkce `plausibility`"
   ]
  },
  {
   "cell_type": "markdown",
   "id": "2073ff78",
   "metadata": {},
   "source": [
    "V případě této funkce se také přistupuje k jednotlivým prvkům Pandas Data Framu, což je zde opět slabé místo."
   ]
  },
  {
   "cell_type": "markdown",
   "id": "b55101b3",
   "metadata": {},
   "source": [
    "```python\n",
    "def plausibility(text: str, TM_ref: pd.DataFrame) -> float:\n",
    "    bigrams_obs = get_bigrams(text)\n",
    "    TM_obs = transition_matrix(bigrams_obs)\n",
    "\n",
    "    likelihood = 0.0\n",
    "    for i in range(len(alphabet)):\n",
    "        for j in range(len(alphabet)):\n",
    "            likelihood += math.log(TM_ref.iat[i, j]) * TM_obs.iat[i, j]\n",
    "\n",
    "    return likelihood\n",
    "```"
   ]
  },
  {
   "cell_type": "markdown",
   "id": "15f445f0",
   "metadata": {},
   "source": [
    "Pro optimalizaci jsme zde opět použili NumPy."
   ]
  },
  {
   "cell_type": "markdown",
   "id": "030fa10f",
   "metadata": {},
   "source": [
    "```python\n",
    "def plausibility(text: str, TM_ref: pd.DataFrame) -> float:\n",
    "    bigrams_obs = get_bigrams(text)\n",
    "    TM_obs = transition_matrix(bigrams_obs)\n",
    "\n",
    "    TM_ref = np.asarray(TM_ref)\n",
    "    TM_obs = np.asarray(TM_obs)\n",
    "    likelihood = np.sum(np.log(TM_ref) * TM_obs)\n",
    "\n",
    "    return likelihood\n",
    "```"
   ]
  },
  {
   "cell_type": "markdown",
   "id": "c57fdaa5",
   "metadata": {},
   "source": [
    "V benchmarku jsme pro obě verze použili již optimalizovanou `transition_matrix` funkci. Zde tedy rychlý benchmark ukazuje, že optimalizovaná verze je přibližně 15 krát rychlejší!"
   ]
  },
  {
   "cell_type": "markdown",
   "id": "5b19d7c6",
   "metadata": {},
   "source": [
    "### Závěr optimalizace"
   ]
  },
  {
   "cell_type": "markdown",
   "id": "a0ee3196",
   "metadata": {},
   "source": [
    "Protože funkce `prolom_substitute` volá v každé iteraci funkci `plausibility`, která následně volá funkci `transition_matrix`, tak tyto dvě optimalizace značně zrychlily průběh kryptoanalýzy. Konkrétně volání funkce `prolom_substitute` s textem z `text_1000_sample_1_ciphertext.txt` a 20 000 iterací se snížilo z 12m 38s na 24.8s. To je přibližně 30 násobné zrychlení!"
   ]
  },
  {
   "cell_type": "markdown",
   "id": "786f013a",
   "metadata": {},
   "source": [
    "## Dosažené výsledky"
   ]
  },
  {
   "cell_type": "markdown",
   "id": "c0043f98",
   "metadata": {},
   "source": [
    "Naše knihovna úspěšně umí zašifrovat a dešifrovat text pomocí substituční šifry. Také umí prolomit text šifrovaný substituční šifrou pomocí Metropolis-Hastings (M-H) algoritmu. Demonstrace naší knihovny včetně analýzy výsledků prolomení testovacích šifrovaných textů je v souboru `demo.ipynb`."
   ]
  },
  {
   "cell_type": "markdown",
   "id": "b5fa5ef2",
   "metadata": {},
   "source": [
    "## Členové týmu 12"
   ]
  },
  {
   "cell_type": "markdown",
   "id": "fede7732",
   "metadata": {},
   "source": [
    "- Jiří Hošek\n",
    "- Martin Nebehay\n",
    "- Jiří Mrkvica\n",
    "- Samuel Všelko"
   ]
  }
 ],
 "metadata": {
  "kernelspec": {
   "display_name": "base",
   "language": "python",
   "name": "python3"
  },
  "language_info": {
   "name": "python",
   "version": "3.12.3"
  }
 },
 "nbformat": 4,
 "nbformat_minor": 5
}
