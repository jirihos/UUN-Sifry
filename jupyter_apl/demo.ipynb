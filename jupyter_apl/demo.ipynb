{
 "cells": [
  {
   "cell_type": "markdown",
   "id": "f724af63",
   "metadata": {},
   "source": [
    "# Demonstrace naší knihovny (Tým 12)"
   ]
  },
  {
   "cell_type": "markdown",
   "id": "027095b3",
   "metadata": {},
   "source": [
    "## Importy"
   ]
  },
  {
   "cell_type": "markdown",
   "id": "7c2f670b",
   "metadata": {},
   "source": [
    "Nejdříve přidáme složku s naší knihovnou do `sys.path`. Poté ji lze jednoduše importovat."
   ]
  },
  {
   "cell_type": "code",
   "execution_count": null,
   "id": "16d26861",
   "metadata": {},
   "outputs": [],
   "source": [
    "import sys\n",
    "import os\n",
    "from os import path\n",
    "import re\n",
    "import unicodedata\n",
    "import pandas as pd\n",
    "import matplotlib.pyplot as plt\n",
    "\n",
    "library_path = path.abspath(path.join(os.getcwd(), \"../MH_decipher\"))\n",
    "if library_path not in sys.path:\n",
    "    sys.path.append(library_path)\n",
    "\n",
    "import mhdecipher # type: ignore"
   ]
  },
  {
   "cell_type": "markdown",
   "id": "89ac8ed7",
   "metadata": {},
   "source": [
    "## Konstanty a pomocné funkce"
   ]
  },
  {
   "cell_type": "code",
   "execution_count": null,
   "id": "bb85502f",
   "metadata": {},
   "outputs": [],
   "source": [
    "IMPORT_DIR_PATH = \"./import\"\n",
    "EXPORT_DIR_PATH = \"../export\""
   ]
  },
  {
   "cell_type": "code",
   "execution_count": null,
   "id": "4fc29ed3",
   "metadata": {},
   "outputs": [],
   "source": [
    "def read_file(filepath: str) -> str:\n",
    "    with open(filepath, \"r\", encoding=\"utf-8\") as f:\n",
    "        return f.read()\n",
    "\n",
    "def write_file(filepath: str, data: str) -> str:\n",
    "    with open(filepath, \"w\", encoding=\"utf-8\") as f:\n",
    "        return f.write(data)\n",
    "\n",
    "def remove_diacritics(text: str) -> str:\n",
    "    normalized_str = unicodedata.normalize(\"NFD\", text)\n",
    "    return \"\".join(c for c in normalized_str if unicodedata.category(c) != \"Mn\")"
   ]
  },
  {
   "cell_type": "markdown",
   "id": "3cf36f3b",
   "metadata": {},
   "source": [
    "## Šifrování"
   ]
  },
  {
   "cell_type": "code",
   "execution_count": null,
   "id": "7bbf9461",
   "metadata": {},
   "outputs": [],
   "source": [
    "plaintext = \"BYL_POZDNI_VECER_PRVNI_MAJ_VECERNI_MAJ_BYL_LASKY_CAS\"\n",
    "key = \"DEFGHIJKLMNOPQRSTUVWXYZ_ABC\"\n",
    "\n",
    "ciphertext = mhdecipher.substitute_encrypt(plaintext, key)\n",
    "\n",
    "print(ciphertext)"
   ]
  },
  {
   "cell_type": "markdown",
   "id": "5a8bd89e",
   "metadata": {},
   "source": [
    "## Dešifrování"
   ]
  },
  {
   "cell_type": "code",
   "execution_count": null,
   "id": "e040c5da",
   "metadata": {},
   "outputs": [],
   "source": [
    "ciphertext = \"EAOCSRBGQLCYHFHUCSUYQLCPDMCYHFHUQLCPDMCEAOCODVNACFDV\"\n",
    "key = \"DEFGHIJKLMNOPQRSTUVWXYZ_ABC\"\n",
    "\n",
    "plaintext = mhdecipher.substitute_decrypt(ciphertext, key)\n",
    "\n",
    "print(plaintext)"
   ]
  },
  {
   "cell_type": "markdown",
   "id": "515e3eb3",
   "metadata": {},
   "source": [
    "## Získání bigramů"
   ]
  },
  {
   "cell_type": "code",
   "execution_count": null,
   "id": "702d19f1",
   "metadata": {},
   "outputs": [],
   "source": [
    "bigrams = mhdecipher.get_bigrams(\"KRYPTOSYSTEM\")\n",
    "print(bigrams)"
   ]
  },
  {
   "cell_type": "markdown",
   "id": "88d637b9",
   "metadata": {},
   "source": [
    "## Vytvoření teoretické bigramové matice"
   ]
  },
  {
   "cell_type": "code",
   "execution_count": null,
   "id": "0ff732bd",
   "metadata": {},
   "outputs": [],
   "source": [
    "ref_text = read_file(\"./Krakatit.txt\")\n",
    "\n",
    "# Extract only the actual text of the chapters\n",
    "chapters_text = re.findall(r\"Údaje o textu\\n.*?\\nPodtitulek: .*?\\nO. Štorch-Marien 1924\\n\\n(.*?)\\n\\n\\n\\n\\n\\n\", ref_text, re.DOTALL)\n",
    "\n",
    "# Replace new lines in each chapter with a space\n",
    "chapters_text = [s.replace(\"\\n\\n\", \" \") for s in chapters_text]\n",
    "\n",
    "# Join the chapters into a single string\n",
    "ref_text = \"\\n\\n\".join(chapters_text)\n",
    "\n",
    "# Convert the text to our alphabet\n",
    "ref_text = ref_text.upper()\n",
    "ref_text = ref_text.replace(\" \", \"_\")\n",
    "ref_text = remove_diacritics(ref_text)\n",
    "\n",
    "# Remove all characters that aren't in the alphabet and aren't a whitespace character\n",
    "ref_text = re.sub(f\"[^{mhdecipher.alphabet}\\\\s]\", \"\", ref_text)\n",
    "\n",
    "print(f\"Using {len(ref_text)} characters of text to make a reference transition matrix.\")\n",
    "\n",
    "bigrams = mhdecipher.get_bigrams(ref_text)\n",
    "TM_ref: pd.DataFrame = mhdecipher.transition_matrix(bigrams)\n",
    "\n",
    "# Visualize the matrix\n",
    "TM_ref.style.format().background_gradient(axis=None)"
   ]
  },
  {
   "cell_type": "markdown",
   "id": "7f1cc101",
   "metadata": {},
   "source": [
    "## Věrohodnost"
   ]
  },
  {
   "cell_type": "markdown",
   "id": "29383d8b",
   "metadata": {},
   "source": [
    "Kód předpokládá vygenerovanou bigramovou matici z minulé sekce."
   ]
  },
  {
   "cell_type": "code",
   "execution_count": null,
   "id": "0d59cf02",
   "metadata": {},
   "outputs": [],
   "source": [
    "plausibility = mhdecipher.plausibility(\"BYL_POZDNI_VECER_PRVNI_MAJ_VECERNI_MAJ_BYL_LASKY_CAS\", TM_ref)\n",
    "print(plausibility)\n",
    "\n",
    "plausibility = mhdecipher.plausibility(\"EAOCSRBGQLCYHFHUCSUYQLCPDMCYHFHUQLCPDMCEAOCODVNACFDV\", TM_ref)\n",
    "print(plausibility)"
   ]
  },
  {
   "cell_type": "markdown",
   "id": "42fb364f",
   "metadata": {},
   "source": [
    "Čitelný český text má větší věrohodnost než zašifrovaný/nečitelný text."
   ]
  },
  {
   "cell_type": "markdown",
   "id": "f8a78f9d",
   "metadata": {},
   "source": [
    "## Provedení kryptoanalýzy na zašifrovaném textu"
   ]
  },
  {
   "cell_type": "markdown",
   "id": "f356cd56",
   "metadata": {},
   "source": [
    "Kód předpokládá vygenerovanou bigramovou matici z minulé sekce."
   ]
  },
  {
   "cell_type": "code",
   "execution_count": null,
   "id": "9fbfa7fe",
   "metadata": {},
   "outputs": [],
   "source": [
    "ciphertext = read_file(\"./import/text_1000_sample_1_ciphertext.txt\")\n",
    "iter = 20_000\n",
    "# start_key = \"ABCDEFGHIJKLMNOPQRSTUVWXYZ_\"\n",
    "start_key = None  # the function will generate a random start key\n",
    "\n",
    "key, decrypted_text, p = mhdecipher.prolom_substitute(ciphertext, TM_ref, iter, start_key)\n",
    "\n",
    "print(f\"Key: {key}\")\n",
    "print(f\"Decrypted text: {decrypted_text}\")\n",
    "print(f\"P: {p}\")"
   ]
  },
  {
   "cell_type": "markdown",
   "id": "ba2983f6",
   "metadata": {},
   "source": [
    "## Provedení kryptoanalýzy na zašifrovaných textech ze zadání"
   ]
  },
  {
   "cell_type": "code",
   "execution_count": null,
   "id": "b4b5a303",
   "metadata": {},
   "outputs": [],
   "source": [
    "for filename in os.listdir(IMPORT_DIR_PATH):\n",
    "    m = re.fullmatch(\"^(.*)_ciphertext.txt$\", filename)\n",
    "    if m is None:\n",
    "        continue\n",
    "\n",
    "    ciphertext_filepath = path.join(IMPORT_DIR_PATH, filename)\n",
    "    plaintext_filepath = path.join(EXPORT_DIR_PATH, m.expand(r\"\\1_plaintext.txt\"))\n",
    "    key_filepath = path.join(EXPORT_DIR_PATH, m.expand(r\"\\1_key.txt\"))\n",
    "\n",
    "    if path.isfile(plaintext_filepath) or path.isfile(plaintext_filepath):\n",
    "        print(f\"Skipping {filename} because the plaintext or key already exists\")\n",
    "        continue\n",
    "\n",
    "    ciphertext = read_file(ciphertext_filepath)\n",
    "    iter = 20_000\n",
    "\n",
    "    print(f\"Cracking {filename}\")\n",
    "    key, decrypted_text, p = mhdecipher.prolom_substitute(ciphertext, TM_ref, iter)\n",
    "    print()\n",
    "\n",
    "    write_file(plaintext_filepath, decrypted_text)\n",
    "    write_file(key_filepath, key)"
   ]
  },
  {
   "cell_type": "markdown",
   "id": "72e7cd75",
   "metadata": {},
   "source": [
    "## Analýza úspěšnosti prolomení"
   ]
  },
  {
   "cell_type": "markdown",
   "id": "fb242406",
   "metadata": {},
   "source": [
    "Analýza není jednoduchá, protože nemáme k dispozici správné klíče či originální texty. Všimli jsme si ovšem, že se jedná o úryvky z díla Krakatit. Budeme tedy uvažovat, že mezery v dešifrovaném textu našim algoritmem, jsou správně, a na jejich základě zkusíme najít stejné úseky v originálním díle."
   ]
  },
  {
   "cell_type": "code",
   "execution_count": null,
   "id": "16adfee4",
   "metadata": {},
   "outputs": [],
   "source": [
    "def similarity_score(str1: str, str2: str) -> int:\n",
    "    if len(str1) != len(str2):\n",
    "        raise ValueError(\"Lengths of strings don't match\")\n",
    "    \n",
    "    l = len(str1)\n",
    "    match_count = 0\n",
    "    for i in range(l):\n",
    "        if str1[i] == str2[i]:\n",
    "            match_count += 1\n",
    "    \n",
    "    return match_count / l\n",
    "\n",
    "fig, ax = plt.subplots(figsize=(10, 5))\n",
    "ax.set_title(\"Similarity of decrypted texts to the original texts\")\n",
    "\n",
    "decrypted_plaintexts = []\n",
    "\n",
    "# Load the decrypted texts\n",
    "for filename in os.listdir(EXPORT_DIR_PATH):\n",
    "    m = re.fullmatch(\"^text_(.*)_sample_(.*)_plaintext.txt$\", filename)\n",
    "    if m is None:\n",
    "        continue\n",
    "    \n",
    "    plaintext_filepath = path.join(EXPORT_DIR_PATH, filename)\n",
    "    decrypted_plaintext = read_file(plaintext_filepath)\n",
    "\n",
    "    length = int(m.group(1))\n",
    "    id = int(m.group(2))\n",
    "    decrypted_plaintexts.append((length, id, decrypted_plaintext))\n",
    "\n",
    "decrypted_plaintexts.sort()\n",
    "\n",
    "labels = []\n",
    "similarity_scores = []\n",
    "colors = []\n",
    "\n",
    "# Find the original plaintexts and calculate the similarity\n",
    "for length, id, decrypted_plaintext in decrypted_plaintexts:\n",
    "    label = f\"text_{length}_sample_{id}\"\n",
    "    labels.append(label)\n",
    "\n",
    "    pattern_words = [f\"[A-Z]{{{len(c)}}}\" for c in decrypted_plaintext.split(\"_\")]\n",
    "    pattern = \"_\".join(pattern_words)\n",
    "    matches = re.findall(pattern, ref_text)\n",
    "    if len(matches) == 0:\n",
    "        print(f\"Original plaintext for {label} was not found\")\n",
    "        similarity_scores.append(0)\n",
    "        colors.append(\"red\")\n",
    "        continue\n",
    "    if len(matches) > 1:\n",
    "        print(f\"More than 1 match was found for {label}\")\n",
    "        similarity_scores.append(0)\n",
    "        colors.append(\"red\")\n",
    "        continue\n",
    "    \n",
    "    original_plaintext = matches[0]\n",
    "\n",
    "    \n",
    "    similarity_scores.append(similarity_score(decrypted_plaintext, original_plaintext))\n",
    "    match length:\n",
    "        case 250: colors.append(\"blue\")\n",
    "        case 500: colors.append(\"green\")\n",
    "        case 1000: colors.append(\"orange\")\n",
    "        case _: colors.append(\"red\")\n",
    "\n",
    "\n",
    "# Make a plot of similarities\n",
    "ax.bar(labels, similarity_scores, color=colors)\n",
    "ax.tick_params(axis=\"x\", rotation=270)\n",
    "ax.axhline(0.95, color=\"red\")\n",
    "plt.show()"
   ]
  },
  {
   "cell_type": "markdown",
   "id": "43465261",
   "metadata": {},
   "source": [
    "Graf zobrazuje podobnost dešifrovaných textů a originálních textů. Různé délky šifrovaných textů jsou barevně rozlišeny. Červená přímka značí 95% podobnost."
   ]
  },
  {
   "cell_type": "markdown",
   "id": "844dca7a",
   "metadata": {},
   "source": [
    "Pokud se nepodařilo jednoznačně najít originální text, tak má sloupec podobnost 0."
   ]
  },
  {
   "cell_type": "markdown",
   "id": "f40c9316",
   "metadata": {},
   "source": [
    "Je vidět, že čím delší šifrovaný text máme, tím větší šance na úspěšné prolomení.\n",
    "\n",
    "Nízká podobnost u krátkých textů není způsobena špatným prolomovacím algoritmem nebo nízkým počtem iterací, neboť tyto dešifrované texty dokonce mají vyšší hodnotu věrohodnosti než originální text. Krátký šifrovaný text zkrátka není vhodný pro tento typ kryptoanalýzy."
   ]
  }
 ],
 "metadata": {
  "kernelspec": {
   "display_name": "base",
   "language": "python",
   "name": "python3"
  },
  "language_info": {
   "codemirror_mode": {
    "name": "ipython",
    "version": 3
   },
   "file_extension": ".py",
   "mimetype": "text/x-python",
   "name": "python",
   "nbconvert_exporter": "python",
   "pygments_lexer": "ipython3",
   "version": "3.12.3"
  }
 },
 "nbformat": 4,
 "nbformat_minor": 5
}
