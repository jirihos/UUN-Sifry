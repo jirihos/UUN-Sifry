{
 "cells": [
  {
   "cell_type": "markdown",
   "id": "f724af63",
   "metadata": {},
   "source": [
    "# Demonstrace naší knihovny"
   ]
  },
  {
   "cell_type": "markdown",
   "id": "027095b3",
   "metadata": {},
   "source": [
    "## Importy"
   ]
  },
  {
   "cell_type": "markdown",
   "id": "7c2f670b",
   "metadata": {},
   "source": [
    "Nejdříve přidáme složku s naší knihovnou do `sys.path`. Poté ji lze jednoduše importovat."
   ]
  },
  {
   "cell_type": "code",
   "execution_count": null,
   "id": "16d26861",
   "metadata": {},
   "outputs": [],
   "source": [
    "import sys\n",
    "import os\n",
    "from os import path\n",
    "import pandas as pd\n",
    "\n",
    "library_path = path.abspath(path.join(os.getcwd(), \"../MH_decipher\"))\n",
    "if library_path not in sys.path:\n",
    "    sys.path.append(library_path)\n",
    "\n",
    "import mhdecipher # type: ignore"
   ]
  },
  {
   "cell_type": "markdown",
   "id": "3cf36f3b",
   "metadata": {},
   "source": [
    "## Šifrování"
   ]
  },
  {
   "cell_type": "code",
   "execution_count": null,
   "id": "7bbf9461",
   "metadata": {},
   "outputs": [],
   "source": [
    "plaintext = \"BYL_POZDNI_VECER_PRVNI_MAJ_VECERNI_MAJ_BYL_LASKY_CAS\"\n",
    "key = \"DEFGHIJKLMNOPQRSTUVWXYZ_ABC\"\n",
    "\n",
    "ciphertext = mhdecipher.substitute_encrypt(plaintext, key)\n",
    "\n",
    "print(ciphertext)"
   ]
  },
  {
   "cell_type": "markdown",
   "id": "5a8bd89e",
   "metadata": {},
   "source": [
    "## Dešifrování"
   ]
  },
  {
   "cell_type": "code",
   "execution_count": null,
   "id": "e040c5da",
   "metadata": {},
   "outputs": [],
   "source": [
    "ciphertext = \"EAOCSRBGQLCYHFHUCSUYQLCPDMCYHFHUQLCPDMCEAOCODVNACFDV\"\n",
    "key = \"DEFGHIJKLMNOPQRSTUVWXYZ_ABC\"\n",
    "\n",
    "plaintext = mhdecipher.substitute_decrypt(ciphertext, key)\n",
    "\n",
    "print(plaintext)"
   ]
  },
  {
   "cell_type": "markdown",
   "id": "88d637b9",
   "metadata": {},
   "source": [
    "## Vytvoření teoretické bigramové matice"
   ]
  },
  {
   "cell_type": "code",
   "execution_count": null,
   "id": "0ff732bd",
   "metadata": {},
   "outputs": [],
   "source": [
    "text = \"\"\n",
    "with open(\"./Krakatit.txt\", encoding=\"utf-8\") as f:\n",
    "    text = f.read()\n",
    "\n",
    "print(f\"Using {len(text)} characters of text to make a transition matrix.\")\n",
    "\n",
    "text = text.upper()\n",
    "\n",
    "bigrams = mhdecipher.get_bigrams(text)\n",
    "TM_ref: pd.DataFrame = mhdecipher.transition_matrix(bigrams)\n",
    "\n",
    "# Visualize the matrix\n",
    "TM_ref.style.format().background_gradient(axis=None)"
   ]
  },
  {
   "cell_type": "markdown",
   "id": "f8a78f9d",
   "metadata": {},
   "source": [
    "## Provedení kryptoanalýzy na zašifrovaném textu"
   ]
  },
  {
   "cell_type": "markdown",
   "id": "f356cd56",
   "metadata": {},
   "source": [
    "Kód předpokládá vygenerovanou bigramovou matici z minulé sekce."
   ]
  },
  {
   "cell_type": "code",
   "execution_count": null,
   "id": "9fbfa7fe",
   "metadata": {},
   "outputs": [],
   "source": [
    "ciphertext = \"EAOCSRBGQLCYHFHUCSUYQLCPDMCYHFHUQLCPDMCEAOCODVNACFDV\"\n",
    "iter = 20_000\n",
    "start_key = \"ABCDEFGHIJKLMNOPQRSTUVWXYZ_\"\n",
    "\n",
    "current_key, best_decrypted_text, p_current = mhdecipher.prolom_substitute(ciphertext, TM_ref, iter, start_key)\n",
    "\n",
    "print(f\"Current key: {current_key}\")\n",
    "print(f\"Best decrypted text: {best_decrypted_text}\")\n",
    "print(f\"Current P: {p_current}\")"
   ]
  },
  {
   "cell_type": "markdown",
   "id": "65e37bd2",
   "metadata": {},
   "source": []
  },
  {
   "cell_type": "markdown",
   "id": "918431ab",
   "metadata": {},
   "source": [
    "## Test: get_bigrams"
   ]
  },
  {
   "cell_type": "code",
   "execution_count": null,
   "id": "12d02d21",
   "metadata": {},
   "outputs": [],
   "source": [
    "bigrams = mhdecipher.get_bigrams(\"KRYPTOSYSTEM\")\n",
    "print(bigrams)\n",
    "\n",
    "assert bigrams == [\"KR\", \"RY\", \"YP\", \"PT\", \"TO\", \"OS\", \"SY\", \"YS\", \"ST\", \"TE\", \"EM\"]  # test expected value"
   ]
  },
  {
   "cell_type": "markdown",
   "id": "ed1a5688",
   "metadata": {},
   "source": [
    "## Test: plausibility"
   ]
  },
  {
   "cell_type": "markdown",
   "id": "0a0ff47f",
   "metadata": {},
   "source": [
    "Kód předpokládá vygenerovanou bigramovou matici výše."
   ]
  },
  {
   "cell_type": "code",
   "execution_count": null,
   "id": "2409a1db",
   "metadata": {},
   "outputs": [],
   "source": [
    "plausibility = mhdecipher.plausibility(\"BYL_POZDNI_VECER_PRVNI_MAJ_VECERNI_MAJ_BYL_LASKY_CAS\", TM_ref)\n",
    "print(plausibility)\n",
    "\n",
    "plausibility = mhdecipher.plausibility(\"EAOCSRBGQLCYHFHUCSUYQLCPDMCYHFHUQLCPDMCEAOCODVNACFDV\", TM_ref)\n",
    "print(plausibility)"
   ]
  }
 ],
 "metadata": {
  "kernelspec": {
   "display_name": "base",
   "language": "python",
   "name": "python3"
  },
  "language_info": {
   "codemirror_mode": {
    "name": "ipython",
    "version": 3
   },
   "file_extension": ".py",
   "mimetype": "text/x-python",
   "name": "python",
   "nbconvert_exporter": "python",
   "pygments_lexer": "ipython3",
   "version": "3.12.3"
  }
 },
 "nbformat": 4,
 "nbformat_minor": 5
}
